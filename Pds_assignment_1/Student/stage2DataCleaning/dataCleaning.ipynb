{
 "cells": [
  {
   "cell_type": "code",
   "execution_count": null,
   "metadata": {},
   "outputs": [],
   "source": [
    "import pandas as pd\n",
    "\n",
    "# Load the CSV data into a DataFrame\n",
    "data = pd.read_csv('/content/StudentsPerformance.csv')  # Replace 'your_data.csv' with the actual file path\n",
    "\n",
    "# Find and print the total number of duplicate rows\n",
    "total_duplicates = data[data.duplicated()].shape[0]\n",
    "print(f\"Total duplicate rows before cleaning: {total_duplicates}\")\n",
    "\n",
    "# Remove duplicate rows\n",
    "data = data.drop_duplicates()\n",
    "\n",
    "# Dropping the \"lunch\" column as I felt it as a\n",
    "cleaned_data = data.drop(columns=['lunch'])\n",
    "\n",
    "# Save the cleaned data to a new CSV file\n",
    "cleaned_data.to_csv('cleanedData.csv', index=False)\n",
    "\n",
    "print(\"Data cleaning complete. The cleaned data has been saved to 'cleanedData.csv'.\")\n"
   ]
  }
 ],
 "metadata": {
  "language_info": {
   "name": "python"
  },
  "orig_nbformat": 4
 },
 "nbformat": 4,
 "nbformat_minor": 2
}
