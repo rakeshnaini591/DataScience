{
 "cells": [
  {
   "cell_type": "code",
   "execution_count": 2,
   "metadata": {},
   "outputs": [
    {
     "ename": "ModuleNotFoundError",
     "evalue": "No module named 'pandas'",
     "output_type": "error",
     "traceback": [
      "\u001b[1;31m---------------------------------------------------------------------------\u001b[0m",
      "\u001b[1;31mModuleNotFoundError\u001b[0m                       Traceback (most recent call last)",
      "Cell \u001b[1;32mIn[2], line 1\u001b[0m\n\u001b[1;32m----> 1\u001b[0m \u001b[39mimport\u001b[39;00m \u001b[39mpandas\u001b[39;00m \u001b[39mas\u001b[39;00m \u001b[39mpd\u001b[39;00m\n\u001b[0;32m      3\u001b[0m file_path \u001b[39m=\u001b[39m \u001b[39m'\u001b[39m\u001b[39m/content/rawData.csv\u001b[39m\u001b[39m'\u001b[39m\n\u001b[0;32m      4\u001b[0m data \u001b[39m=\u001b[39m pd\u001b[39m.\u001b[39mread_csv(file_path)\n",
      "\u001b[1;31mModuleNotFoundError\u001b[0m: No module named 'pandas'"
     ]
    }
   ],
   "source": [
    "import pandas as pd\n",
    "\n",
    "file_path = '/content/rawData.csv'\n",
    "data = pd.read_csv(file_path)\n",
    "\n",
    "# Create a DataFrame from the raw data\n",
    "df = pd.DataFrame(data)\n",
    "\n",
    "# Convert Weight from pounds to kilograms (1 lb = 0.45359237 kg)\n",
    "df['Weight(lbs)'] = df['Weight(lbs)'] * 0.45359237\n",
    "\n",
    "# Rename the column from 'Weight(lbs)' to 'Weight(kgs)'\n",
    "df.rename(columns={'Weight(lbs)': 'Weight(kgs)'}, inplace=True)\n",
    "\n",
    "# Map 'N' to False and 'Y' to True in the Frailty column\n",
    "df['Frailty'] = df['Frailty'].map({'N': False, 'Y': True})\n",
    "\n",
    "# Save the cleaned data to a CSV file\n",
    "cleaned_file_path = 'cleanData.csv'\n",
    "df.to_csv(cleaned_file_path, index=False)\n",
    "\n",
    "# Display the cleaned DataFrame\n",
    "print(df)\n",
    "\n",
    "\n"
   ]
  }
 ],
 "metadata": {
  "kernelspec": {
   "display_name": "Python 3",
   "language": "python",
   "name": "python3"
  },
  "language_info": {
   "codemirror_mode": {
    "name": "ipython",
    "version": 3
   },
   "file_extension": ".py",
   "mimetype": "text/x-python",
   "name": "python",
   "nbconvert_exporter": "python",
   "pygments_lexer": "ipython3",
   "version": "3.11.2"
  },
  "orig_nbformat": 4
 },
 "nbformat": 4,
 "nbformat_minor": 2
}
