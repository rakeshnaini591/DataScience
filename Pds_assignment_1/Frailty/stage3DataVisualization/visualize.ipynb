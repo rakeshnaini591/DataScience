{
 "cells": [
  {
   "cell_type": "code",
   "execution_count": null,
   "metadata": {},
   "outputs": [],
   "source": [
    "import seaborn as cbrn\n",
    "import matplotlib.pyplot as pt\n",
    "\n",
    "# Example visualizations\n",
    "cbrn.set(style=\"whitegrid\")\n",
    "\n",
    "# Scatter plot of Age vs. Grip Strength\n",
    "pt.figure(figsize=(8, 6))\n",
    "cbrn.scatterplot(data=df, x='Age(years)', y='Grip strength(kgs)', hue='Frailty')\n",
    "pt.title('Age vs. Grip Strength')\n",
    "pt.xlabel('Age (years)')\n",
    "pt.ylabel('Grip Strength (kgs)')\n",
    "pt.show()\n",
    "\n",
    "# Bar chart of Frailty\n",
    "pt.figure(figsize=(6, 4))\n",
    "cbrn.countplot(data=df, x='Frailty')\n",
    "pt.title('Frailty Distribution')\n",
    "pt.xlabel('Frailty')\n",
    "pt.ylabel('Count')\n",
    "pt.show()\n"
   ]
  }
 ],
 "metadata": {
  "language_info": {
   "name": "python"
  },
  "orig_nbformat": 4
 },
 "nbformat": 4,
 "nbformat_minor": 2
}
